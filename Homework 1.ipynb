{
 "cells": [
  {
   "cell_type": "code",
   "execution_count": 16,
   "metadata": {
    "collapsed": true
   },
   "outputs": [],
   "source": [
    "import numpy as np\n",
    "import matplotlib.pyplot as plt"
   ]
  },
  {
   "cell_type": "code",
   "execution_count": 17,
   "metadata": {
    "collapsed": true
   },
   "outputs": [],
   "source": [
    "%matplotlib inline"
   ]
  },
  {
   "cell_type": "code",
   "execution_count": 18,
   "metadata": {
    "collapsed": false
   },
   "outputs": [],
   "source": [
    "def predict(X,w,y=None):\n",
    "    y_pred = np.sign(np.dot(X,w))\n",
    "    if y is None:\n",
    "        return y_pred\n",
    "    return y_pred, np.mean(y==y_pred)\n",
    "\n",
    "def generate_weights():\n",
    "    pts = np.random.uniform(-1, 1, (2, 2))\n",
    "    d = pts[0] - pts[1]; m = -1.*d[1]/d[0]\n",
    "    w = np.ones(3)\n",
    "    w[1] = m\n",
    "    w[0] = -1.*pts[0,1] - w[1]*pts[0,0]\n",
    "    return w\n",
    "\n",
    "def generate_dataset(N):\n",
    "    X = np.ones((N,3)) # x0 = 1\n",
    "    X[:,1:] = np.random.uniform(-1,1,(N,2))\n",
    "    return X\n",
    "\n",
    "def plot_dataset(X, y, w=None, show_line=False):\n",
    "    \n",
    "    # set the size\n",
    "    plt.figure(figsize=[12,8])\n",
    "    \n",
    "    X_0 = X[np.where(y==-1)[0]]\n",
    "    X_1 = X[np.where(y==1)[0]]\n",
    "    plt.scatter(X_0[:,1], X_0[:,2], color='r',label='-1 class')\n",
    "    plt.scatter(X_1[:,1], X_1[:,2], color='b',label='1 class')\n",
    "    \n",
    "    if show_line:\n",
    "        x = np.linspace(-1, 1, 1e3)\n",
    "        fx = -1.*w[1]/w[2]*x - w[0]/w[2]\n",
    "        plt.plot(x,fx, color='black',label='hyperplane')\n",
    "        \n",
    "    plt.legend(loc='upper right')\n",
    "    plt.xlim([-1,1])\n",
    "    plt.ylim([-1,1])\n",
    "    plt.title('2D, Linearly separable dataset for PLA')\n",
    "    plt.show()"
   ]
  },
  {
   "cell_type": "code",
   "execution_count": 19,
   "metadata": {
    "collapsed": false
   },
   "outputs": [
    {
     "data": {
      "image/png": "[encoded data removed]",
      "text/plain": [
       "<matplotlib.figure.Figure at 0x104cc2210>"
      ]
     },
     "metadata": {},
     "output_type": "display_data"
    }
   ],
   "source": [
    "# create a 2D dataset\n",
    "N = 100\n",
    "X = generate_dataset(N)\n",
    "w = generate_weights()\n",
    "y = predict(X,w)\n",
    "\n",
    "# plot dataset and line separating\n",
    "plot_dataset(X,y,w=w,show_line=True)"
   ]
  },
  {
   "cell_type": "code",
   "execution_count": 25,
   "metadata": {
    "collapsed": false
   },
   "outputs": [
    {
     "name": "stdout",
     "output_type": "stream",
     "text": [
      "Average number of iterations: 114.0\n"
     ]
    }
   ],
   "source": [
    "# PLA\n",
    "num_trials = 1000\n",
    "N = 100\n",
    "n_iters = [0]*num_trials\n",
    "\n",
    "# repeat this experiment num_trials number of times and average\n",
    "for i in range(num_trials):\n",
    "    \n",
    "    # generate a new dataset\n",
    "    X = generate_dataset(N)\n",
    "    w = generate_weights()\n",
    "    y = predict(X,w)\n",
    "    \n",
    "    # use PLA to find a separating hyperplane, and count number of \n",
    "    # iterations\n",
    "    w_ = np.zeros(3)\n",
    "    y_pred, acc = predict(X, w_, y)\n",
    "    n_iter = 0 \n",
    "    \n",
    "    # linearly separable, so it should eventually converge\n",
    "    while acc != 1.:\n",
    "        # pick a random misclassified point\n",
    "        misclass_idxs = np.where(y != y_pred)[0]\n",
    "        np.random.shuffle(misclass_idxs)\n",
    "        misclass_idx = misclass_idxs[0]\n",
    "\n",
    "        w_ = w_ + X[misclass_idx]*y[misclass_idx]\n",
    "        y_pred, acc = predict(X, w_, y)\n",
    "        n_iter += 1\n",
    "    n_iters[i] = n_iter\n",
    "\n",
    "print 'Average number of iterations: %.1f'%np.mean(n_iters)"
   ]
  },
  {
   "cell_type": "code",
   "execution_count": 26,
   "metadata": {
    "collapsed": false
   },
   "outputs": [
    {
     "name": "stdout",
     "output_type": "stream",
     "text": [
      "Probability of misclassification: 0.008\n"
     ]
    }
   ],
   "source": [
    "test_N = 100000\n",
    "X_te = generate_dataset(test_N)\n",
    "y_te = predict(X_te, w)\n",
    "y_te_pred = predict(X_te, w_)\n",
    "print 'Probability of misclassification: %.3f'%(np.mean(y_te != y_te_pred))"
   ]
  }
 ],
 "metadata": {
  "kernelspec": {
   "display_name": "Python 2",
   "language": "python",
   "name": "python2"
  },
  "language_info": {
   "codemirror_mode": {
    "name": "ipython",
    "version": 2
   },
   "file_extension": ".py",
   "mimetype": "text/x-python",
   "name": "python",
   "nbconvert_exporter": "python",
   "pygments_lexer": "ipython2",
   "version": "2.7.10"
  }
 },
 "nbformat": 4,
 "nbformat_minor": 0
}
